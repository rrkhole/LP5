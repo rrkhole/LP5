{
  "nbformat": 4,
  "nbformat_minor": 0,
  "metadata": {
    "colab": {
      "provenance": [],
      "gpuType": "T4"
    },
    "kernelspec": {
      "name": "python3",
      "display_name": "Python 3"
    },
    "language_info": {
      "name": "python"
    },
    "accelerator": "GPU",
    "gpuClass": "standard"
  },
  "cells": [
    {
      "cell_type": "code",
      "execution_count": null,
      "metadata": {
        "colab": {
          "base_uri": "https://localhost:8080/"
        },
        "id": "jaeYRnWcmRML",
        "outputId": "25d9978e-7d86-46a5-a04f-d4315c17a794"
      },
      "outputs": [
        {
          "output_type": "stream",
          "name": "stdout",
          "text": [
            "nvcc: NVIDIA (R) Cuda compiler driver\n",
            "Copyright (c) 2005-2022 NVIDIA Corporation\n",
            "Built on Wed_Sep_21_10:33:58_PDT_2022\n",
            "Cuda compilation tools, release 11.8, V11.8.89\n",
            "Build cuda_11.8.r11.8/compiler.31833905_0\n"
          ]
        }
      ],
      "source": [
        "!nvcc --version"
      ]
    },
    {
      "cell_type": "code",
      "source": [
        "!pip install git+https://github.com/andreinechaev/nvcc4jupyter.git"
      ],
      "metadata": {
        "colab": {
          "base_uri": "https://localhost:8080/"
        },
        "id": "eF2QjoFBmhM2",
        "outputId": "2c862487-0360-4627-c02e-160509f8044b"
      },
      "execution_count": null,
      "outputs": [
        {
          "output_type": "stream",
          "name": "stdout",
          "text": [
            "Looking in indexes: https://pypi.org/simple, https://us-python.pkg.dev/colab-wheels/public/simple/\n",
            "Collecting git+https://github.com/andreinechaev/nvcc4jupyter.git\n",
            "  Cloning https://github.com/andreinechaev/nvcc4jupyter.git to /tmp/pip-req-build-gzktlrlv\n",
            "  Running command git clone --filter=blob:none --quiet https://github.com/andreinechaev/nvcc4jupyter.git /tmp/pip-req-build-gzktlrlv\n",
            "  Resolved https://github.com/andreinechaev/nvcc4jupyter.git to commit aac710a35f52bb78ab34d2e52517237941399eff\n",
            "  Preparing metadata (setup.py) ... \u001b[?25l\u001b[?25hdone\n",
            "Building wheels for collected packages: NVCCPlugin\n",
            "  Building wheel for NVCCPlugin (setup.py) ... \u001b[?25l\u001b[?25hdone\n",
            "  Created wheel for NVCCPlugin: filename=NVCCPlugin-0.0.2-py3-none-any.whl size=4287 sha256=a12f0a869afd975174f773e321702c84b798c0c5cd0bd1d209dd0863fbde56ba\n",
            "  Stored in directory: /tmp/pip-ephem-wheel-cache-usj1j871/wheels/a8/b9/18/23f8ef71ceb0f63297dd1903aedd067e6243a68ea756d6feea\n",
            "Successfully built NVCCPlugin\n",
            "Installing collected packages: NVCCPlugin\n",
            "Successfully installed NVCCPlugin-0.0.2\n"
          ]
        }
      ]
    },
    {
      "cell_type": "code",
      "source": [
        "%load_ext nvcc_plugin"
      ],
      "metadata": {
        "colab": {
          "base_uri": "https://localhost:8080/"
        },
        "id": "uxm7QCQ9msaD",
        "outputId": "77ec0961-1ba0-4c47-c5c2-4a729947ac34"
      },
      "execution_count": null,
      "outputs": [
        {
          "output_type": "stream",
          "name": "stdout",
          "text": [
            "created output directory at /content/src\n",
            "Out bin /content/result.out\n"
          ]
        }
      ]
    },
    {
      "cell_type": "markdown",
      "source": [
        "**Sum**"
      ],
      "metadata": {
        "id": "DfD-Gz-Fqxrv"
      }
    },
    {
      "cell_type": "code",
      "source": [
        "%%cu\n",
        "#include \"cuda_runtime.h\"\n",
        "#include \"device_launch_parameters.h\"\n",
        "\n",
        "#include <iostream>\n",
        "#include <numeric>\n",
        "using namespace std;\n",
        "\n",
        "__global__ void sum(int* input)\n",
        "{\n",
        "\tconst int tid = threadIdx.x;\n",
        "\n",
        "\tauto step_size = 1;\n",
        "\tint number_of_threads = blockDim.x;\n",
        "\n",
        "\twhile (number_of_threads > 0)\n",
        "\t{\n",
        "\t\tif (tid < number_of_threads) // still alive?\n",
        "\t\t{\n",
        "\t\t\tconst auto fst = tid * step_size * 2;\n",
        "\t\t\tconst auto snd = fst + step_size;\n",
        "\t\t\tinput[fst] += input[snd];\n",
        "\t\t}\n",
        "\n",
        "\t\tstep_size <<= 1; \n",
        "\t\tnumber_of_threads >>= 1;\n",
        "\t}\n",
        "}\n",
        "\n",
        "int main()\n",
        "{\n",
        "\tconst auto count = 8;\n",
        "\tconst int size = count * sizeof(int);\n",
        "\tint h[] = {13, 27, 15, 14, 33, 2, 24, 6};\n",
        "\n",
        "\tint* d;\n",
        "\t\n",
        "\tcudaMalloc(&d, size);\n",
        "\tcudaMemcpy(d, h, size, cudaMemcpyHostToDevice);\n",
        "\n",
        "\tsum <<<1, count / 2 >>>(d);\n",
        "\n",
        "\tint result;\n",
        "\tcudaMemcpy(&result, d, sizeof(int), cudaMemcpyDeviceToHost);\n",
        "\n",
        "\tcout << \"Sum is \" << result << endl;\n",
        "\n",
        "\tgetchar();\n",
        "\n",
        "\tcudaFree(d);\n",
        "\tdelete[] h;\n",
        "\n",
        "\treturn 0;\n",
        "}"
      ],
      "metadata": {
        "colab": {
          "base_uri": "https://localhost:8080/"
        },
        "id": "F1XWWqyQm8j9",
        "outputId": "fab388d0-8ba5-4c38-ac35-56b5a63920d3"
      },
      "execution_count": null,
      "outputs": [
        {
          "output_type": "stream",
          "name": "stdout",
          "text": [
            "Sum is 134\n",
            "double free or corruption (out)\n",
            "\n"
          ]
        }
      ]
    },
    {
      "cell_type": "code",
      "source": [
        "%%cu\n",
        "#include <cstdio>\n",
        "#include <iostream>\n",
        " \n",
        "    using namespace std;\n",
        " \n",
        "__global__ void maxi(int* a, int* b, int n)\n",
        "{\n",
        "    int block = 256 * blockIdx.x;\n",
        "    int max = 0;\n",
        " \n",
        "    for (int i = block; i < min(256 + block, n); i++) {\n",
        " \n",
        "        if (max < a[i]) {\n",
        "            max = a[i];\n",
        "        }\n",
        "    }\n",
        "    b[blockIdx.x] = max;\n",
        "}\n",
        " \n",
        "int main()\n",
        "{\n",
        " \n",
        "    int n;\n",
        "    n = 8;\n",
        "    int a[n]={13, 27, 15, 14, 33, 2, 24, 6};\n",
        " \n",
        "    \n",
        " \n",
        "    cudaEvent_t start, end;\n",
        "    int *ad, *bd;\n",
        "    int size = n * sizeof(int);\n",
        "    cudaMalloc(&ad, size);\n",
        "    cudaMemcpy(ad, a, size, cudaMemcpyHostToDevice);\n",
        "    int grids = ceil(n * 1.0f / 256.0f);\n",
        "    cudaMalloc(&bd, grids * sizeof(int));\n",
        " \n",
        "    dim3 grid(grids, 1);\n",
        "    dim3 block(1, 1);\n",
        " \n",
        "    cudaEventCreate(&start);\n",
        "    cudaEventCreate(&end);\n",
        "    cudaEventRecord(start);\n",
        " \n",
        "    while (n > 1) {\n",
        "        maxi<<<grids, block>>>(ad, bd, n);\n",
        "        n = ceil(n * 1.0f / 256.0f);\n",
        "        cudaMemcpy(ad, bd, n * sizeof(int), cudaMemcpyDeviceToDevice);\n",
        "    }\n",
        " \n",
        "    cudaEventRecord(end);\n",
        "    cudaEventSynchronize(end);\n",
        " \n",
        "    float time = 0;\n",
        "    cudaEventElapsedTime(&time, start, end);\n",
        " \n",
        "    int ans[2];\n",
        "    cudaMemcpy(ans, ad, 4, cudaMemcpyDeviceToHost);\n",
        " \n",
        "    cout << \"The maximum element is : \" << ans[0] << endl;\n",
        " \n",
        "    cout << \"The time required : \";\n",
        "    cout << time << endl;\n",
        "}"
      ],
      "metadata": {
        "colab": {
          "base_uri": "https://localhost:8080/"
        },
        "id": "F-fGLuWbq0rJ",
        "outputId": "d484ac83-e114-4289-ea9c-209d3372b039"
      },
      "execution_count": null,
      "outputs": [
        {
          "output_type": "stream",
          "name": "stdout",
          "text": [
            "The maximum element is : 33\n",
            "The time required : 0.034368\n",
            "\n"
          ]
        }
      ]
    },
    {
      "cell_type": "code",
      "source": [
        "%%cu\n",
        "\n",
        "#include <cstdio>\n",
        "#include <iostream>\n",
        " \n",
        "    using namespace std;\n",
        " \n",
        "__global__ void mni(int* a, int* b, int n)\n",
        "{\n",
        "    int block = 256 * blockIdx.x;\n",
        "    int mn= INT_MAX;\n",
        " \n",
        "    for (int i = block; i < min(256 + block, n); i++) {\n",
        " \n",
        "        if (mn>a[i]) {\n",
        "            mn= a[i];\n",
        "        }\n",
        "    }\n",
        "    b[blockIdx.x] = mn;\n",
        "}\n",
        " \n",
        "int main()\n",
        "{\n",
        " \n",
        "    int n;\n",
        "    n = 8;\n",
        "    int a[n]={13, 27, 15, 14, 33, 2, 24, 6};\n",
        " \n",
        "    \n",
        " \n",
        "    cudaEvent_t start, end;\n",
        "    int *ad, *bd;\n",
        "    int size = n * sizeof(int);\n",
        "    cudaMalloc(&ad, size);\n",
        "    cudaMemcpy(ad, a, size, cudaMemcpyHostToDevice);\n",
        "    int grids = ceil(n * 1.0f / 256.0f);\n",
        "    cudaMalloc(&bd, grids * sizeof(int));\n",
        " \n",
        "    dim3 grid(grids, 1);\n",
        "    dim3 block(1, 1);\n",
        " \n",
        "    cudaEventCreate(&start);\n",
        "    cudaEventCreate(&end);\n",
        "    cudaEventRecord(start);\n",
        " \n",
        "    while (n > 1) {\n",
        "        mni<<<grids, block>>>(ad, bd, n);\n",
        "        n = ceil(n * 1.0f / 256.0f);\n",
        "        cudaMemcpy(ad, bd, n * sizeof(int), cudaMemcpyDeviceToDevice);\n",
        "    }\n",
        " \n",
        "    cudaEventRecord(end);\n",
        "    cudaEventSynchronize(end);\n",
        " \n",
        "    float time = 0;\n",
        "    cudaEventElapsedTime(&time, start, end);\n",
        " \n",
        "    int ans[2];\n",
        "    cudaMemcpy(ans, ad, 4, cudaMemcpyDeviceToHost);\n",
        " \n",
        "    cout << \"The minimum element is : \" << ans[0] << endl;\n",
        " \n",
        "    cout << \"The time required : \";\n",
        "    cout << time << endl;\n",
        "}"
      ],
      "metadata": {
        "colab": {
          "base_uri": "https://localhost:8080/"
        },
        "id": "gcpQNPOhrbTK",
        "outputId": "22882e16-6664-4fd7-c3b0-1487d8373435"
      },
      "execution_count": null,
      "outputs": [
        {
          "output_type": "stream",
          "name": "stdout",
          "text": [
            "The minimum element is : 2\n",
            "The time required : 0.029696\n",
            "\n"
          ]
        }
      ]
    }
  ]
}